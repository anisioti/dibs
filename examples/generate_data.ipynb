{
 "cells": [
  {
   "cell_type": "code",
   "execution_count": 114,
   "metadata": {},
   "outputs": [
    {
     "name": "stdout",
     "output_type": "stream",
     "text": [
      "JAX backend: cpu\n"
     ]
    }
   ],
   "source": [
    "import jax\n",
    "import sys  \n",
    "import jax.random as random\n",
    "import jax.numpy as jnp\n",
    "from jax.numpy import index_exp as index\n",
    "\n",
    "sys.path.insert(0, '../')\n",
    "from dibs.target import make_linear_gaussian_model, make_nonlinear_gaussian_model\n",
    "from dibs.graph_utils import graph_to_mat #for graph sampling\n",
    "from dibs.models import LinearGaussian #for parameter sampling\n",
    "\n",
    "key = random.PRNGKey(123)\n",
    "print(f\"JAX backend: {jax.default_backend()}\")"
   ]
  },
  {
   "cell_type": "code",
   "execution_count": 139,
   "metadata": {},
   "outputs": [
    {
     "data": {
      "text/plain": [
       "DeviceArray([ 961309823, 1704866707], dtype=uint32)"
      ]
     },
     "execution_count": 139,
     "metadata": {},
     "output_type": "execute_result"
    }
   ],
   "source": [
    "subkey"
   ]
  },
  {
   "cell_type": "code",
   "execution_count": 152,
   "metadata": {},
   "outputs": [
    {
     "name": "stdout",
     "output_type": "stream",
     "text": [
      "[   0 1701]\n",
      "[]\n",
      "<class 'list'>\n",
      "0\n",
      "[  56197195 1801093307]\n",
      "[ 961309823 1704866707]\n",
      "1\n",
      "[1948314926   18442562]\n",
      "[3607299241 1501002339]\n",
      "2\n",
      "[3012589754 2847679230]\n",
      "[2704933330 1409745451]\n",
      "3\n",
      "[3389310233  100302506]\n",
      "[2141046588 4135594142]\n",
      "4\n",
      "[1209106627 2008329078]\n",
      "[2452947530 2685855115]\n",
      "5\n",
      "[665794805 409583056]\n",
      "[3528035545 4263362951]\n",
      "6\n",
      "[ 496085882 3433032244]\n",
      "[1993612224 1385908671]\n",
      "7\n",
      "[1120391938 4083081944]\n",
      "[3609638420  835929708]\n",
      "8\n",
      "[1964724363 1570491772]\n",
      "[2816395849 2169436777]\n",
      "9\n",
      "[  73993845 3462729352]\n",
      "[2470002977 2956761710]\n",
      "10\n",
      "[1597116053 2870019329]\n",
      "[1184564883  492457053]\n",
      "11\n",
      "[ 595063410 4046883715]\n",
      "[1055853113 2001004309]\n",
      "12\n",
      "[2058455463 2473782384]\n",
      "[3984770594 2892741285]\n",
      "13\n",
      "[ 518365813 2738773632]\n",
      "[2253285099 1607622566]\n",
      "14\n",
      "[2773509240 2037829253]\n",
      "[4271157486 3762127267]\n",
      "15\n",
      "[3548303316 3589081137]\n",
      "[3417485873 3613373643]\n",
      "16\n",
      "[ 144777565 3436797870]\n",
      "[2071496299 2398221226]\n",
      "17\n",
      "[3315133881 1734038502]\n",
      "[3503849617 2949005368]\n",
      "18\n",
      "[1486159605 2849446752]\n",
      "[1041153962 2777832569]\n",
      "19\n",
      "[ 658947030 3058455545]\n",
      "[ 34259389 666033673]\n",
      "20\n",
      "[4093647649  312862052]\n",
      "[1167508044  198742896]\n",
      "21\n",
      "[4054898436 2391791291]\n",
      "[3152975145  681637661]\n",
      "22\n",
      "[1291153302  666149736]\n",
      "[ 578279771 1450210476]\n",
      "23\n",
      "[1809839580  799002795]\n",
      "[2447765070 1440149391]\n",
      "24\n",
      "[ 237511559 3185126698]\n",
      "[3277222246 3722766027]\n",
      "25\n",
      "[4139622208 4222260857]\n",
      "[2015014455 1730787627]\n",
      "26\n",
      "[1051883905 1451368929]\n",
      "[2248141177 3990138017]\n",
      "27\n",
      "[2436191284  624671004]\n",
      "[1602797521 3571443607]\n",
      "28\n",
      "[1360608675 1914405329]\n",
      "[3337194320 2306402106]\n",
      "29\n",
      "[2449592732 3998812567]\n",
      "[ 576313237 2612358332]\n",
      "30\n",
      "[2639865979  998703198]\n",
      "[2314557575 2357629208]\n",
      "31\n",
      "[2899333204 1343204107]\n",
      "[2427935534  195499718]\n",
      "32\n",
      "[3199947060 2197186523]\n",
      "[1152343955 1420741357]\n",
      "33\n",
      "[4196193168 2311147065]\n",
      "[3920059963 1662613651]\n",
      "34\n",
      "[2076180749  383306879]\n",
      "[1938089348 3246139491]\n",
      "35\n",
      "[447820311 151319612]\n",
      "[3712987993 3767228577]\n",
      "36\n",
      "[1396719657 2891440942]\n",
      "[ 388427340 3422044163]\n",
      "37\n",
      "[2974714899  934741485]\n",
      "[ 785296155 1027009269]\n",
      "38\n",
      "[2600892275  381001442]\n",
      "[ 999680505 4216520656]\n",
      "39\n",
      "[2394106065 3016375201]\n",
      "[1359348608  540646178]\n",
      "40\n",
      "[3894157364  820726488]\n",
      "[1569704826 2259259871]\n",
      "41\n",
      "[1504281979 4016405543]\n",
      "[1185968325 3141252766]\n",
      "42\n",
      "[ 407647732 3555630623]\n",
      "[2565077731 1218809273]\n",
      "43\n",
      "[1337408418 4155669798]\n",
      "[3753648034 4002757083]\n",
      "44\n",
      "[ 466841279 1819364073]\n",
      "[4181993726 1758190316]\n",
      "45\n",
      "[3780150286 3632231080]\n",
      "[ 578567260 3243369208]\n",
      "46\n",
      "[  63022874 4277270495]\n",
      "[ 890490832 3960619186]\n",
      "47\n",
      "[ 383381369 1960493111]\n",
      "[2899540851 1253768569]\n",
      "48\n",
      "[1545676908 2289541321]\n",
      "[ 754214490 3447982472]\n",
      "49\n",
      "[2771823410 1412635487]\n",
      "[ 203517580 4256365472]\n",
      "50\n",
      "[1646741276 1209584700]\n",
      "[2661565792 2628955519]\n",
      "51\n",
      "[3872359036 1760592982]\n",
      "[2637064082 1119382574]\n",
      "52\n",
      "[974512928 343636815]\n",
      "[1025275416  781097905]\n",
      "53\n",
      "[763305989 485379211]\n",
      "[1907368541 3736486626]\n",
      "54\n",
      "[1923473822 2422892220]\n",
      "[1979644450 1602872617]\n",
      "55\n",
      "[ 883402297 2607477278]\n",
      "[2319817577 2486645785]\n",
      "56\n",
      "[884540642 388434452]\n",
      "[4241411645 3705143363]\n",
      "57\n",
      "[ 654279236 3387578433]\n",
      "[2438249330 1142073910]\n",
      "58\n",
      "[3068570926 2892350600]\n",
      "[1783686123 2936026641]\n",
      "59\n",
      "[1349394291  424062973]\n",
      "[ 617831217 4167164412]\n",
      "60\n",
      "[1246765948 2040163915]\n",
      "[4159438323  865925135]\n",
      "61\n",
      "[2784105185 3087023900]\n",
      "[3397130294 1334694529]\n",
      "62\n",
      "[3563658503 4292201914]\n",
      "[2184129583 2734706685]\n",
      "63\n",
      "[ 601779759 3723811922]\n",
      "[1613514367 2434639215]\n",
      "64\n",
      "[2520971388 3638381501]\n",
      "[ 588284230 2494740276]\n",
      "65\n",
      "[ 100024028 2281113780]\n",
      "[2011468577 1293157433]\n",
      "66\n",
      "[3499115027 1257137321]\n",
      "[2167779077 4178306989]\n",
      "67\n",
      "[ 820774782 4048654877]\n",
      "[841613812 993236191]\n",
      "68\n",
      "[1888142774 4186460754]\n",
      "[3567415611 2389359805]\n",
      "69\n",
      "[2829417083 1121055871]\n",
      "[3086984530 1597313419]\n",
      "70\n",
      "[2176951556 2886121433]\n",
      "[4225945077 1494663953]\n",
      "71\n",
      "[2334117285  846177300]\n",
      "[3831996812 2707402161]\n",
      "72\n",
      "[1926410701 3858552530]\n",
      "[2530994653 1407108761]\n",
      "73\n",
      "[2117830585 2678334812]\n",
      "[3655651215 3495468537]\n",
      "74\n",
      "[3357228713 2010922365]\n",
      "[2631351365  877637375]\n",
      "75\n",
      "[2188051249 2185913472]\n",
      "[2811440343   86418788]\n",
      "76\n",
      "[3831238961 3211457591]\n",
      "[3904898992  714102601]\n",
      "77\n",
      "[4232959857 1856625092]\n",
      "[2539091864 3777224148]\n",
      "78\n",
      "[3785587720  576298856]\n",
      "[2467721884  918669099]\n",
      "79\n",
      "[2432146955 2572626454]\n",
      "[2165140691 3576282151]\n",
      "80\n",
      "[1271909837 4258901051]\n",
      "[ 185767135 3214871843]\n",
      "81\n",
      "[3886306746   63090083]\n",
      "[2968405416 1583701391]\n",
      "82\n",
      "[1287159835 1360052721]\n",
      "[1586103416 1240269951]\n",
      "83\n",
      "[ 461516412 2343684122]\n",
      "[111599465 292443636]\n",
      "84\n",
      "[3157320112 2887271988]\n",
      "[1932400663  767061443]\n",
      "85\n",
      "[3963282115 3452474942]\n",
      "[2634433583   16831562]\n",
      "86\n",
      "[ 451815450 1952190080]\n",
      "[3886943671 3546388790]\n",
      "87\n",
      "[3580454180  296529537]\n",
      "[2912807170 3128023501]\n",
      "88\n",
      "[4156931908 2322909267]\n",
      "[3929756114 1468675252]\n",
      "89\n",
      "[2169157637  419114535]\n",
      "[1687969288  422133228]\n",
      "90\n",
      "[ 833508123 1519838950]\n",
      "[ 877916711 3050592311]\n",
      "91\n",
      "[2185898486   58905415]\n",
      "[1834368001 1378856381]\n",
      "92\n",
      "[3280343746 2690521077]\n",
      "[ 645073825 3125121164]\n",
      "93\n",
      "[436035443 470172840]\n",
      "[2851528920 3215036196]\n",
      "94\n",
      "[3684214594 1506628114]\n",
      "[2954310734 2689169245]\n",
      "95\n",
      "[ 830913174 1963345520]\n",
      "[3562303177 2433537109]\n",
      "96\n",
      "[3571171430  494510206]\n",
      "[3930449663  857180531]\n",
      "97\n",
      "[1224921204 3267729331]\n",
      "[2458920837  781664198]\n",
      "98\n",
      "[1294343760 1167736320]\n",
      "[1318481459 4252212214]\n",
      "99\n",
      "[2181433582 2113458740]\n",
      "[1658063154 3070068463]\n"
     ]
    },
    {
     "data": {
      "text/plain": [
       "[DeviceArray([ 961309823, 1704866707], dtype=uint32),\n",
       " DeviceArray([3607299241, 1501002339], dtype=uint32),\n",
       " DeviceArray([2704933330, 1409745451], dtype=uint32),\n",
       " DeviceArray([2141046588, 4135594142], dtype=uint32),\n",
       " DeviceArray([2452947530, 2685855115], dtype=uint32),\n",
       " DeviceArray([3528035545, 4263362951], dtype=uint32),\n",
       " DeviceArray([1993612224, 1385908671], dtype=uint32),\n",
       " DeviceArray([3609638420,  835929708], dtype=uint32),\n",
       " DeviceArray([2816395849, 2169436777], dtype=uint32),\n",
       " DeviceArray([2470002977, 2956761710], dtype=uint32),\n",
       " DeviceArray([1184564883,  492457053], dtype=uint32),\n",
       " DeviceArray([1055853113, 2001004309], dtype=uint32),\n",
       " DeviceArray([3984770594, 2892741285], dtype=uint32),\n",
       " DeviceArray([2253285099, 1607622566], dtype=uint32),\n",
       " DeviceArray([4271157486, 3762127267], dtype=uint32),\n",
       " DeviceArray([3417485873, 3613373643], dtype=uint32),\n",
       " DeviceArray([2071496299, 2398221226], dtype=uint32),\n",
       " DeviceArray([3503849617, 2949005368], dtype=uint32),\n",
       " DeviceArray([1041153962, 2777832569], dtype=uint32),\n",
       " DeviceArray([ 34259389, 666033673], dtype=uint32),\n",
       " DeviceArray([1167508044,  198742896], dtype=uint32),\n",
       " DeviceArray([3152975145,  681637661], dtype=uint32),\n",
       " DeviceArray([ 578279771, 1450210476], dtype=uint32),\n",
       " DeviceArray([2447765070, 1440149391], dtype=uint32),\n",
       " DeviceArray([3277222246, 3722766027], dtype=uint32),\n",
       " DeviceArray([2015014455, 1730787627], dtype=uint32),\n",
       " DeviceArray([2248141177, 3990138017], dtype=uint32),\n",
       " DeviceArray([1602797521, 3571443607], dtype=uint32),\n",
       " DeviceArray([3337194320, 2306402106], dtype=uint32),\n",
       " DeviceArray([ 576313237, 2612358332], dtype=uint32),\n",
       " DeviceArray([2314557575, 2357629208], dtype=uint32),\n",
       " DeviceArray([2427935534,  195499718], dtype=uint32),\n",
       " DeviceArray([1152343955, 1420741357], dtype=uint32),\n",
       " DeviceArray([3920059963, 1662613651], dtype=uint32),\n",
       " DeviceArray([1938089348, 3246139491], dtype=uint32),\n",
       " DeviceArray([3712987993, 3767228577], dtype=uint32),\n",
       " DeviceArray([ 388427340, 3422044163], dtype=uint32),\n",
       " DeviceArray([ 785296155, 1027009269], dtype=uint32),\n",
       " DeviceArray([ 999680505, 4216520656], dtype=uint32),\n",
       " DeviceArray([1359348608,  540646178], dtype=uint32),\n",
       " DeviceArray([1569704826, 2259259871], dtype=uint32),\n",
       " DeviceArray([1185968325, 3141252766], dtype=uint32),\n",
       " DeviceArray([2565077731, 1218809273], dtype=uint32),\n",
       " DeviceArray([3753648034, 4002757083], dtype=uint32),\n",
       " DeviceArray([4181993726, 1758190316], dtype=uint32),\n",
       " DeviceArray([ 578567260, 3243369208], dtype=uint32),\n",
       " DeviceArray([ 890490832, 3960619186], dtype=uint32),\n",
       " DeviceArray([2899540851, 1253768569], dtype=uint32),\n",
       " DeviceArray([ 754214490, 3447982472], dtype=uint32),\n",
       " DeviceArray([ 203517580, 4256365472], dtype=uint32),\n",
       " DeviceArray([2661565792, 2628955519], dtype=uint32),\n",
       " DeviceArray([2637064082, 1119382574], dtype=uint32),\n",
       " DeviceArray([1025275416,  781097905], dtype=uint32),\n",
       " DeviceArray([1907368541, 3736486626], dtype=uint32),\n",
       " DeviceArray([1979644450, 1602872617], dtype=uint32),\n",
       " DeviceArray([2319817577, 2486645785], dtype=uint32),\n",
       " DeviceArray([4241411645, 3705143363], dtype=uint32),\n",
       " DeviceArray([2438249330, 1142073910], dtype=uint32),\n",
       " DeviceArray([1783686123, 2936026641], dtype=uint32),\n",
       " DeviceArray([ 617831217, 4167164412], dtype=uint32),\n",
       " DeviceArray([4159438323,  865925135], dtype=uint32),\n",
       " DeviceArray([3397130294, 1334694529], dtype=uint32),\n",
       " DeviceArray([2184129583, 2734706685], dtype=uint32),\n",
       " DeviceArray([1613514367, 2434639215], dtype=uint32),\n",
       " DeviceArray([ 588284230, 2494740276], dtype=uint32),\n",
       " DeviceArray([2011468577, 1293157433], dtype=uint32),\n",
       " DeviceArray([2167779077, 4178306989], dtype=uint32),\n",
       " DeviceArray([841613812, 993236191], dtype=uint32),\n",
       " DeviceArray([3567415611, 2389359805], dtype=uint32),\n",
       " DeviceArray([3086984530, 1597313419], dtype=uint32),\n",
       " DeviceArray([4225945077, 1494663953], dtype=uint32),\n",
       " DeviceArray([3831996812, 2707402161], dtype=uint32),\n",
       " DeviceArray([2530994653, 1407108761], dtype=uint32),\n",
       " DeviceArray([3655651215, 3495468537], dtype=uint32),\n",
       " DeviceArray([2631351365,  877637375], dtype=uint32),\n",
       " DeviceArray([2811440343,   86418788], dtype=uint32),\n",
       " DeviceArray([3904898992,  714102601], dtype=uint32),\n",
       " DeviceArray([2539091864, 3777224148], dtype=uint32),\n",
       " DeviceArray([2467721884,  918669099], dtype=uint32),\n",
       " DeviceArray([2165140691, 3576282151], dtype=uint32),\n",
       " DeviceArray([ 185767135, 3214871843], dtype=uint32),\n",
       " DeviceArray([2968405416, 1583701391], dtype=uint32),\n",
       " DeviceArray([1586103416, 1240269951], dtype=uint32),\n",
       " DeviceArray([111599465, 292443636], dtype=uint32),\n",
       " DeviceArray([1932400663,  767061443], dtype=uint32),\n",
       " DeviceArray([2634433583,   16831562], dtype=uint32),\n",
       " DeviceArray([3886943671, 3546388790], dtype=uint32),\n",
       " DeviceArray([2912807170, 3128023501], dtype=uint32),\n",
       " DeviceArray([3929756114, 1468675252], dtype=uint32),\n",
       " DeviceArray([1687969288,  422133228], dtype=uint32),\n",
       " DeviceArray([ 877916711, 3050592311], dtype=uint32),\n",
       " DeviceArray([1834368001, 1378856381], dtype=uint32),\n",
       " DeviceArray([ 645073825, 3125121164], dtype=uint32),\n",
       " DeviceArray([2851528920, 3215036196], dtype=uint32),\n",
       " DeviceArray([2954310734, 2689169245], dtype=uint32),\n",
       " DeviceArray([3562303177, 2433537109], dtype=uint32),\n",
       " DeviceArray([3930449663,  857180531], dtype=uint32),\n",
       " DeviceArray([2458920837,  781664198], dtype=uint32),\n",
       " DeviceArray([1318481459, 4252212214], dtype=uint32),\n",
       " DeviceArray([1658063154, 3070068463], dtype=uint32)]"
      ]
     },
     "execution_count": 152,
     "metadata": {},
     "output_type": "execute_result"
    }
   ],
   "source": [
    "#try to see how to do the for loop and in which type to store the subkeys for sampling multiple parameters\n",
    "seed = 1701\n",
    "num_steps = 100\n",
    "key = jax.random.PRNGKey(seed)\n",
    "print(key)\n",
    "#l = jnp.arange(num_steps)\n",
    "l = []\n",
    "print(l)\n",
    "print(type(l))\n",
    "for i in range(num_steps):\n",
    "    key, subkey = jax.random.split(key)\n",
    "    print(i)\n",
    "    print(key)\n",
    "    l.append(subkey)\n",
    "    #l = l.at[i].set(subkey)\n",
    "    print(subkey)\n",
    "l "
   ]
  },
  {
   "cell_type": "code",
   "execution_count": 156,
   "metadata": {},
   "outputs": [
    {
     "data": {
      "text/plain": [
       "100"
      ]
     },
     "execution_count": 156,
     "metadata": {},
     "output_type": "execute_result"
    }
   ],
   "source": []
  },
  {
   "cell_type": "code",
   "execution_count": 116,
   "metadata": {},
   "outputs": [],
   "source": [
    "key, subk = random.split(key)"
   ]
  },
  {
   "cell_type": "code",
   "execution_count": 3,
   "metadata": {},
   "outputs": [],
   "source": [
    "key, subk = random.split(key)\n",
    "data, model = make_nonlinear_gaussian_model(key=subk, n_vars=20, graph_prior_str=\"sf\")\n"
   ]
  },
  {
   "cell_type": "markdown",
   "metadata": {},
   "source": [
    "### Step one is to sample a random Graph:"
   ]
  },
  {
   "cell_type": "code",
   "execution_count": 16,
   "metadata": {},
   "outputs": [
    {
     "data": {
      "text/plain": [
       "100"
      ]
     },
     "execution_count": 16,
     "metadata": {},
     "output_type": "execute_result"
    }
   ],
   "source": [
    "data.x #should have shape of 100*20 "
   ]
  },
  {
   "cell_type": "code",
   "execution_count": 18,
   "metadata": {},
   "outputs": [],
   "source": [
    "from dibs.models.graph import ErdosReniDAGDistribution\n"
   ]
  },
  {
   "cell_type": "code",
   "execution_count": 30,
   "metadata": {},
   "outputs": [],
   "source": [
    "g_gt = ErdosReniDAGDistribution(n_vars = 20).sample_G(key = subk, return_mat=False)"
   ]
  },
  {
   "cell_type": "code",
   "execution_count": 31,
   "metadata": {},
   "outputs": [
    {
     "data": {
      "text/plain": [
       "<igraph.Graph at 0x7f75cc792e50>"
      ]
     },
     "execution_count": 31,
     "metadata": {},
     "output_type": "execute_result"
    }
   ],
   "source": [
    "g_gt"
   ]
  },
  {
   "cell_type": "code",
   "execution_count": 65,
   "metadata": {},
   "outputs": [
    {
     "data": {
      "text/plain": [
       "[6, 11, 12, 15, 17, 4, 10, 19, 8, 0, 5, 13, 7, 14, 9, 2, 1, 16, 3, 18]"
      ]
     },
     "execution_count": 65,
     "metadata": {},
     "output_type": "execute_result"
    }
   ],
   "source": [
    "g_gt.topological_sorting()"
   ]
  },
  {
   "cell_type": "code",
   "execution_count": 80,
   "metadata": {},
   "outputs": [
    {
     "data": {
      "text/plain": [
       "20"
      ]
     },
     "execution_count": 80,
     "metadata": {},
     "output_type": "execute_result"
    }
   ],
   "source": [
    "len(g_gt.vs)"
   ]
  },
  {
   "cell_type": "code",
   "execution_count": 101,
   "metadata": {},
   "outputs": [
    {
     "name": "stdout",
     "output_type": "stream",
     "text": [
      "[9, 27]\n"
     ]
    }
   ],
   "source": [
    "parent_edges = g_gt.incident(19, mode='in')\n",
    "print(parent_edges)\n",
    "parents = list(g_gt.es[e].source for e in parent_edges)"
   ]
  },
  {
   "cell_type": "code",
   "execution_count": 102,
   "metadata": {},
   "outputs": [
    {
     "data": {
      "text/plain": [
       "[6, 15]"
      ]
     },
     "execution_count": 102,
     "metadata": {},
     "output_type": "execute_result"
    }
   ],
   "source": [
    "parents"
   ]
  },
  {
   "cell_type": "code",
   "execution_count": 36,
   "metadata": {},
   "outputs": [],
   "source": [
    "g_gt_mat = jnp.array(graph_to_mat(g_gt)) #why do we need this while we have a adj matrix already from the sample_G function?"
   ]
  },
  {
   "cell_type": "code",
   "execution_count": 39,
   "metadata": {},
   "outputs": [
    {
     "data": {
      "text/plain": [
       "DeviceArray([[0, 0, 1, 0, 0, 0, 0, 0, 0, 0, 0, 0, 0, 1, 0, 0, 0, 0, 0, 0],\n",
       "             [0, 0, 0, 0, 0, 0, 0, 0, 0, 0, 0, 0, 0, 0, 0, 0, 1, 0, 0, 0],\n",
       "             [0, 1, 0, 0, 0, 0, 0, 0, 0, 0, 0, 0, 0, 0, 0, 0, 0, 0, 0, 0],\n",
       "             [0, 0, 0, 0, 0, 0, 0, 0, 0, 0, 0, 0, 0, 0, 0, 0, 0, 0, 0, 0],\n",
       "             [0, 0, 0, 1, 0, 0, 0, 0, 0, 0, 0, 0, 0, 1, 0, 0, 0, 0, 1, 0],\n",
       "             [0, 0, 0, 0, 0, 0, 0, 1, 0, 0, 0, 0, 0, 0, 1, 0, 0, 0, 0, 0],\n",
       "             [0, 0, 0, 0, 0, 0, 0, 0, 0, 0, 0, 0, 0, 0, 0, 0, 0, 0, 0, 1],\n",
       "             [0, 1, 0, 0, 0, 0, 0, 0, 0, 0, 0, 0, 0, 0, 0, 0, 0, 0, 0, 0],\n",
       "             [0, 0, 0, 0, 0, 0, 0, 0, 0, 0, 0, 0, 0, 0, 0, 0, 1, 0, 0, 0],\n",
       "             [0, 0, 0, 0, 0, 0, 0, 0, 0, 0, 0, 0, 0, 0, 0, 0, 0, 0, 1, 0],\n",
       "             [1, 0, 0, 0, 0, 0, 0, 0, 1, 0, 0, 0, 0, 1, 0, 0, 1, 0, 0, 0],\n",
       "             [0, 0, 0, 0, 1, 0, 0, 1, 0, 1, 0, 0, 0, 1, 0, 0, 0, 0, 0, 0],\n",
       "             [0, 0, 0, 0, 0, 0, 0, 0, 0, 0, 0, 0, 0, 1, 0, 0, 0, 0, 0, 0],\n",
       "             [0, 0, 0, 0, 0, 0, 0, 0, 0, 1, 0, 0, 0, 0, 0, 0, 0, 0, 0, 0],\n",
       "             [0, 1, 1, 0, 0, 0, 0, 0, 0, 0, 0, 0, 0, 0, 0, 0, 0, 0, 0, 0],\n",
       "             [0, 1, 0, 0, 0, 0, 0, 0, 0, 0, 1, 0, 0, 0, 0, 0, 0, 0, 0, 1],\n",
       "             [0, 0, 0, 1, 0, 0, 0, 0, 0, 0, 0, 0, 0, 0, 0, 0, 0, 0, 1, 0],\n",
       "             [0, 0, 0, 0, 0, 0, 0, 0, 0, 0, 0, 0, 0, 0, 0, 0, 0, 0, 1, 0],\n",
       "             [0, 0, 0, 0, 0, 0, 0, 0, 0, 0, 0, 0, 0, 0, 0, 0, 0, 0, 0, 0],\n",
       "             [1, 1, 0, 0, 0, 1, 0, 0, 0, 0, 0, 0, 0, 0, 0, 0, 0, 0, 0, 0]],            dtype=int32)"
      ]
     },
     "execution_count": 39,
     "metadata": {},
     "output_type": "execute_result"
    }
   ],
   "source": [
    "g_gt_mat # 20*20 shape since we have 20 nodes on the graph"
   ]
  },
  {
   "cell_type": "markdown",
   "metadata": {},
   "source": [
    "### Step two is to sample the parameters: "
   ]
  },
  {
   "cell_type": "code",
   "execution_count": 157,
   "metadata": {},
   "outputs": [],
   "source": [
    "theta = LinearGaussian(graph_dist = ErdosReniDAGDistribution(\n",
    "            n_vars=20, \n",
    "            n_edges_per_node=2)).sample_parameters(key=subk, n_vars = 20)"
   ]
  },
  {
   "cell_type": "code",
   "execution_count": 236,
   "metadata": {},
   "outputs": [
    {
     "name": "stdout",
     "output_type": "stream",
     "text": [
      "[0 1]\n",
      "0\n",
      "[2441914641 1384938218]\n",
      "[[ 0.12619044 -0.3771744  -0.2625161   0.32729203  0.615659   -0.38788825\n",
      "  -0.00281111  0.6932224  -0.5751246   0.4259092  -0.24562313 -0.26173314\n",
      "   0.10807621 -0.9281473  -0.30882785  0.10668769 -0.49456137 -0.12753274\n",
      "   1.096207   -0.26280993]]\n",
      "1\n",
      "[2698884502 3718367942]\n",
      "[[-0.26192698 -1.183513   -0.29308     2.3202152  -0.16016826  0.10377014\n",
      "  -0.07096305 -0.4253351   0.47655684  1.0644951  -0.32124123  0.14289615\n",
      "  -0.02786717 -0.39078194  0.35374543  0.01186005 -1.1836246  -0.21596202\n",
      "  -0.51576793  0.10380407]]\n"
     ]
    }
   ],
   "source": [
    "#try to see how to do the for loop and in which type to store the subkeys for sampling multiple parameters\n",
    "# I would add the number of timepoints and do a trick to avoid the same seeds giving rise to the same parameters. \n",
    "seed = 1\n",
    "num_obs = 2\n",
    "key = jax.random.PRNGKey(seed)\n",
    "print(key)\n",
    "#l = jnp.arange(num_steps)\n",
    "#l = []\n",
    "#print(l)\n",
    "#print(type(l))\n",
    "observations = jnp.array(object= jnp.empty(shape=(0,20)))\n",
    "for i in range(num_steps):\n",
    "    key, subk = jax.random.split(key)\n",
    "    print(i)\n",
    "    print(key)\n",
    "    theta = LinearGaussian(graph_dist = ErdosReniDAGDistribution(\n",
    "           n_vars=20, \n",
    "           n_edges_per_node=2)).sample_parameters(key=subk, n_vars = 20)\n",
    "    observation = LinearGaussian(graph_dist = ErdosReniDAGDistribution(\n",
    "            n_vars=20, \n",
    "            n_edges_per_node=2)).sample_obs(key=subk, n_samples = 1, g = g_gt, theta = theta)\n",
    "    observations = jnp.append(observations, values= observation, axis=0)\n",
    "    print(observation)\n",
    "    #print(theta)\n",
    "    #print(key)\n",
    "    #l.append(subkey)\n",
    "    #l = l.at[i].set(subkey)\n",
    "    #print(subkey) "
   ]
  },
  {
   "cell_type": "code",
   "execution_count": 237,
   "metadata": {},
   "outputs": [
    {
     "data": {
      "text/plain": [
       "DeviceArray([[ 0.12619044, -0.3771744 , -0.2625161 ,  0.32729203,\n",
       "               0.615659  , -0.38788825, -0.00281111,  0.6932224 ,\n",
       "              -0.5751246 ,  0.4259092 , -0.24562313, -0.26173314,\n",
       "               0.10807621, -0.9281473 , -0.30882785,  0.10668769,\n",
       "              -0.49456137, -0.12753274,  1.096207  , -0.26280993],\n",
       "             [-0.26192698, -1.183513  , -0.29308   ,  2.3202152 ,\n",
       "              -0.16016826,  0.10377014, -0.07096305, -0.4253351 ,\n",
       "               0.47655684,  1.0644951 , -0.32124123,  0.14289615,\n",
       "              -0.02786717, -0.39078194,  0.35374543,  0.01186005,\n",
       "              -1.1836246 , -0.21596202, -0.51576793,  0.10380407]],            dtype=float32)"
      ]
     },
     "execution_count": 237,
     "metadata": {},
     "output_type": "execute_result"
    }
   ],
   "source": [
    "observations"
   ]
  },
  {
   "cell_type": "code",
   "execution_count": 194,
   "metadata": {},
   "outputs": [
    {
     "data": {
      "text/plain": [
       "(20, 20)"
      ]
     },
     "execution_count": 194,
     "metadata": {},
     "output_type": "execute_result"
    }
   ],
   "source": [
    "theta.shape"
   ]
  },
  {
   "cell_type": "code",
   "execution_count": 164,
   "metadata": {},
   "outputs": [
    {
     "ename": "AttributeError",
     "evalue": "'DeviceArray' object has no attribute 'type'",
     "output_type": "error",
     "traceback": [
      "\u001b[0;31m---------------------------------------------------------------------------\u001b[0m",
      "\u001b[0;31mAttributeError\u001b[0m                            Traceback (most recent call last)",
      "Cell \u001b[0;32mIn [164], line 1\u001b[0m\n\u001b[0;32m----> 1\u001b[0m \u001b[43mtheta\u001b[49m\u001b[38;5;241;43m.\u001b[39;49m\u001b[43mtype\u001b[49m\n",
      "\u001b[0;31mAttributeError\u001b[0m: 'DeviceArray' object has no attribute 'type'"
     ]
    }
   ],
   "source": [
    "theta"
   ]
  },
  {
   "cell_type": "code",
   "execution_count": 56,
   "metadata": {},
   "outputs": [
    {
     "data": {
      "text/plain": [
       "(20,)"
      ]
     },
     "execution_count": 56,
     "metadata": {},
     "output_type": "execute_result"
    }
   ],
   "source": [
    "theta[0].shape\n",
    "\n",
    "#I understand why we have 20 different thetas (corresponding to each Xi i = 1,...,20) but why each is of dimension 20? Just to make the matrix mult possible with the \n",
    "#adj matrix? In the end we end up unsing only the ones that have connections to the parents. "
   ]
  },
  {
   "cell_type": "markdown",
   "metadata": {},
   "source": [
    "### Step three: Sample observations"
   ]
  },
  {
   "cell_type": "code",
   "execution_count": 224,
   "metadata": {},
   "outputs": [],
   "source": [
    "observations = jnp.array(object= jnp.empty(shape=(0,20)))"
   ]
  },
  {
   "cell_type": "code",
   "execution_count": 225,
   "metadata": {},
   "outputs": [
    {
     "data": {
      "text/plain": [
       "DeviceArray([], dtype=float32)"
      ]
     },
     "execution_count": 225,
     "metadata": {},
     "output_type": "execute_result"
    }
   ],
   "source": [
    "observations"
   ]
  },
  {
   "cell_type": "code",
   "execution_count": 226,
   "metadata": {},
   "outputs": [],
   "source": [
    "observation = LinearGaussian(graph_dist = ErdosReniDAGDistribution(\n",
    "            n_vars=20, \n",
    "            n_edges_per_node=2)).sample_obs(key=subk, n_samples = 1, g = g_gt, theta = theta )"
   ]
  },
  {
   "cell_type": "code",
   "execution_count": 238,
   "metadata": {},
   "outputs": [],
   "source": [
    "#checking the observations with sampling in the old way- the dimensions match \n",
    "obs_old = LinearGaussian(graph_dist = ErdosReniDAGDistribution(\n",
    "            n_vars=20, \n",
    "            n_edges_per_node=2)).sample_obs(key=subk, n_samples = 2, g = g_gt, theta = theta )"
   ]
  },
  {
   "cell_type": "code",
   "execution_count": 241,
   "metadata": {},
   "outputs": [
    {
     "data": {
      "text/plain": [
       "(20,)"
      ]
     },
     "execution_count": 241,
     "metadata": {},
     "output_type": "execute_result"
    }
   ],
   "source": []
  },
  {
   "cell_type": "code",
   "execution_count": 228,
   "metadata": {},
   "outputs": [
    {
     "data": {
      "text/plain": [
       "(1, 20)"
      ]
     },
     "execution_count": 228,
     "metadata": {},
     "output_type": "execute_result"
    }
   ],
   "source": [
    "observation.shape"
   ]
  },
  {
   "cell_type": "code",
   "execution_count": 233,
   "metadata": {},
   "outputs": [],
   "source": [
    "observations = jnp.append(observations, values= observation, axis=0)"
   ]
  },
  {
   "cell_type": "code",
   "execution_count": 235,
   "metadata": {},
   "outputs": [
    {
     "data": {
      "text/plain": [
       "(2, 20)"
      ]
     },
     "execution_count": 235,
     "metadata": {},
     "output_type": "execute_result"
    }
   ],
   "source": [
    "observations.shape"
   ]
  },
  {
   "cell_type": "code",
   "execution_count": 61,
   "metadata": {},
   "outputs": [
    {
     "data": {
      "text/plain": [
       "(20,)"
      ]
     },
     "execution_count": 61,
     "metadata": {},
     "output_type": "execute_result"
    }
   ],
   "source": [
    "# we have 100 observations that each has dimension 20 \n",
    "observations[9].shape"
   ]
  },
  {
   "cell_type": "code",
   "execution_count": 94,
   "metadata": {},
   "outputs": [],
   "source": [
    " x = jnp.zeros((100, len(g_gt.vs)))"
   ]
  },
  {
   "cell_type": "code",
   "execution_count": 96,
   "metadata": {},
   "outputs": [
    {
     "data": {
      "text/plain": [
       "(100, 20)"
      ]
     },
     "execution_count": 96,
     "metadata": {},
     "output_type": "execute_result"
    }
   ],
   "source": [
    "x.shape"
   ]
  },
  {
   "cell_type": "code",
   "execution_count": 104,
   "metadata": {},
   "outputs": [],
   "source": [
    "mean = x[:, jnp.array(parents)] @ theta[jnp.array(parents), 19] "
   ]
  },
  {
   "cell_type": "code",
   "execution_count": 107,
   "metadata": {},
   "outputs": [
    {
     "data": {
      "text/plain": [
       "DeviceArray([ 3.2422197, -0.8611006], dtype=float32)"
      ]
     },
     "execution_count": 107,
     "metadata": {},
     "output_type": "execute_result"
    }
   ],
   "source": [
    "theta[jnp.array(parents), 19]"
   ]
  },
  {
   "cell_type": "code",
   "execution_count": 106,
   "metadata": {},
   "outputs": [
    {
     "data": {
      "text/plain": [
       "100"
      ]
     },
     "execution_count": 106,
     "metadata": {},
     "output_type": "execute_result"
    }
   ],
   "source": [
    "len(mean)"
   ]
  },
  {
   "cell_type": "code",
   "execution_count": 99,
   "metadata": {},
   "outputs": [
    {
     "data": {
      "text/plain": [
       "DeviceArray([[5., 0., 0., ..., 0., 0., 0.],\n",
       "             [5., 0., 0., ..., 0., 0., 0.],\n",
       "             [5., 0., 0., ..., 0., 0., 0.],\n",
       "             ...,\n",
       "             [5., 0., 0., ..., 0., 0., 0.],\n",
       "             [5., 0., 0., ..., 0., 0., 0.],\n",
       "             [5., 0., 0., ..., 0., 0., 0.]], dtype=float32)"
      ]
     },
     "execution_count": 99,
     "metadata": {},
     "output_type": "execute_result"
    }
   ],
   "source": [
    "x.at[index[:, 0]].set(5)"
   ]
  },
  {
   "cell_type": "code",
   "execution_count": null,
   "metadata": {},
   "outputs": [],
   "source": []
  }
 ],
 "metadata": {
  "kernelspec": {
   "display_name": "Python 3.8.3 ('dibs')",
   "language": "python",
   "name": "python3"
  },
  "language_info": {
   "codemirror_mode": {
    "name": "ipython",
    "version": 3
   },
   "file_extension": ".py",
   "mimetype": "text/x-python",
   "name": "python",
   "nbconvert_exporter": "python",
   "pygments_lexer": "ipython3",
   "version": "3.8.3"
  },
  "orig_nbformat": 4,
  "vscode": {
   "interpreter": {
    "hash": "f8bc6901ec2ab16206c66fa37cbadeaaaf87cbdfc537adcb43196c3c436dc7dd"
   }
  }
 },
 "nbformat": 4,
 "nbformat_minor": 2
}
