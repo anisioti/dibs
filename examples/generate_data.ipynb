{
 "cells": [
  {
   "cell_type": "code",
   "execution_count": 1,
   "metadata": {},
   "outputs": [],
   "source": [
    "import jax\n",
    "import sys  \n",
    "sys.path.insert(0, '../')\n",
    "from dibs.target import make_linear_gaussian_model, make_nonlinear_gaussian_model"
   ]
  }
 ],
 "metadata": {
  "kernelspec": {
   "display_name": "Python 3.8.3 ('dibs')",
   "language": "python",
   "name": "python3"
  },
  "language_info": {
   "codemirror_mode": {
    "name": "ipython",
    "version": 3
   },
   "file_extension": ".py",
   "mimetype": "text/x-python",
   "name": "python",
   "nbconvert_exporter": "python",
   "pygments_lexer": "ipython3",
   "version": "3.8.3"
  },
  "orig_nbformat": 4,
  "vscode": {
   "interpreter": {
    "hash": "f8bc6901ec2ab16206c66fa37cbadeaaaf87cbdfc537adcb43196c3c436dc7dd"
   }
  }
 },
 "nbformat": 4,
 "nbformat_minor": 2
}
