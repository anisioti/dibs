{
 "cells": [
  {
   "cell_type": "code",
   "execution_count": 4,
   "metadata": {},
   "outputs": [
    {
     "name": "stdout",
     "output_type": "stream",
     "text": [
      "The autoreload extension is already loaded. To reload it, use:\n",
      "  %reload_ext autoreload\n",
      "JAX backend: cpu\n"
     ]
    }
   ],
   "source": [
    "%load_ext autoreload\n",
    "%autoreload 2\n",
    "\n",
    "import jax\n",
    "import jax.random as random\n",
    "\n",
    "key = random.PRNGKey(123)\n",
    "print(f\"JAX backend: {jax.default_backend()}\")"
   ]
  },
  {
   "cell_type": "code",
   "execution_count": 5,
   "metadata": {},
   "outputs": [],
   "source": [
    "from target_new import *"
   ]
  },
  {
   "cell_type": "code",
   "execution_count": null,
   "metadata": {},
   "outputs": [],
   "source": [
    "theta = sample_parameters"
   ]
  },
  {
   "cell_type": "code",
   "execution_count": 3,
   "metadata": {},
   "outputs": [
    {
     "ename": "TypeError",
     "evalue": "sample_parameters() missing 1 required keyword-only argument: 'n_obs'",
     "output_type": "error",
     "traceback": [
      "\u001b[0;31m---------------------------------------------------------------------------\u001b[0m",
      "\u001b[0;31mTypeError\u001b[0m                                 Traceback (most recent call last)",
      "Cell \u001b[0;32mIn [3], line 2\u001b[0m\n\u001b[1;32m      1\u001b[0m key, subk \u001b[38;5;241m=\u001b[39m random\u001b[38;5;241m.\u001b[39msplit(key)\n\u001b[0;32m----> 2\u001b[0m data, model \u001b[38;5;241m=\u001b[39m \u001b[43mmake_linear_gaussian_model\u001b[49m\u001b[43m(\u001b[49m\u001b[43mkey\u001b[49m\u001b[38;5;241;43m=\u001b[39;49m\u001b[43msubk\u001b[49m\u001b[43m,\u001b[49m\u001b[43m \u001b[49m\u001b[43mn_vars\u001b[49m\u001b[38;5;241;43m=\u001b[39;49m\u001b[38;5;241;43m20\u001b[39;49m\u001b[43m,\u001b[49m\u001b[43m \u001b[49m\u001b[43mgraph_prior_str\u001b[49m\u001b[38;5;241;43m=\u001b[39;49m\u001b[38;5;124;43m\"\u001b[39;49m\u001b[38;5;124;43msf\u001b[39;49m\u001b[38;5;124;43m\"\u001b[39;49m\u001b[43m)\u001b[49m\n",
      "File \u001b[0;32m~/Desktop/thesis/dibs/dibs/new_generation_process/target_new.py:170\u001b[0m, in \u001b[0;36mmake_linear_gaussian_model\u001b[0;34m(key, n_vars, graph_prior_str, obs_noise, mean_edge, sig_edge, min_edge, n_observations)\u001b[0m\n\u001b[1;32m    168\u001b[0m \u001b[39m# sample synthetic BN and observations\u001b[39;00m\n\u001b[1;32m    169\u001b[0m key, subk \u001b[39m=\u001b[39m random\u001b[39m.\u001b[39msplit(key)\n\u001b[0;32m--> 170\u001b[0m data \u001b[39m=\u001b[39m make_synthetic_bayes_net(\n\u001b[1;32m    171\u001b[0m     key\u001b[39m=\u001b[39;49msubk, n_vars\u001b[39m=\u001b[39;49mn_vars,\n\u001b[1;32m    172\u001b[0m     graph_dist\u001b[39m=\u001b[39;49mgraph_dist,\n\u001b[1;32m    173\u001b[0m     generative_model\u001b[39m=\u001b[39;49mgenerative_model,\n\u001b[1;32m    174\u001b[0m     n_observations\u001b[39m=\u001b[39;49mn_observations)\n\u001b[1;32m    176\u001b[0m \u001b[39mreturn\u001b[39;00m data, inference_model\n",
      "File \u001b[0;32m~/Desktop/thesis/dibs/dibs/new_generation_process/target_new.py:88\u001b[0m, in \u001b[0;36mmake_synthetic_bayes_net\u001b[0;34m(key, n_vars, graph_dist, generative_model, n_observations)\u001b[0m\n\u001b[1;32m     86\u001b[0m \u001b[39mfor\u001b[39;00m i \u001b[39min\u001b[39;00m \u001b[39mrange\u001b[39m(n_observations):\n\u001b[1;32m     87\u001b[0m     key, subk \u001b[39m=\u001b[39m random\u001b[39m.\u001b[39msplit(key)\n\u001b[0;32m---> 88\u001b[0m     theta \u001b[39m=\u001b[39m generative_model\u001b[39m.\u001b[39;49msample_parameters(key\u001b[39m=\u001b[39;49msubk, n_vars \u001b[39m=\u001b[39;49m \u001b[39m20\u001b[39;49m)\n\u001b[1;32m     89\u001b[0m     thetas\u001b[39m.\u001b[39mappend(theta)\n\u001b[1;32m     90\u001b[0m     observation \u001b[39m=\u001b[39m generative_model\u001b[39m.\u001b[39msample_obs(key\u001b[39m=\u001b[39msubk, n_samples \u001b[39m=\u001b[39m \u001b[39m1\u001b[39m, g \u001b[39m=\u001b[39m g_gt, theta \u001b[39m=\u001b[39m theta)\n",
      "\u001b[0;31mTypeError\u001b[0m: sample_parameters() missing 1 required keyword-only argument: 'n_obs'"
     ]
    }
   ],
   "source": [
    "key, subk = random.split(key)\n",
    "data, model = make_linear_gaussian_model(key=subk, n_vars=20, graph_prior_str=\"sf\")\n"
   ]
  },
  {
   "cell_type": "code",
   "execution_count": null,
   "metadata": {},
   "outputs": [],
   "source": []
  },
  {
   "cell_type": "code",
   "execution_count": null,
   "metadata": {},
   "outputs": [],
   "source": []
  }
 ],
 "metadata": {
  "kernelspec": {
   "display_name": "Python 3.8.3 ('dibs')",
   "language": "python",
   "name": "python3"
  },
  "language_info": {
   "codemirror_mode": {
    "name": "ipython",
    "version": 3
   },
   "file_extension": ".py",
   "mimetype": "text/x-python",
   "name": "python",
   "nbconvert_exporter": "python",
   "pygments_lexer": "ipython3",
   "version": "3.8.3"
  },
  "orig_nbformat": 4,
  "vscode": {
   "interpreter": {
    "hash": "f8bc6901ec2ab16206c66fa37cbadeaaaf87cbdfc537adcb43196c3c436dc7dd"
   }
  }
 },
 "nbformat": 4,
 "nbformat_minor": 2
}
